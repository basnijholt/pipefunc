{
 "cells": [
  {
   "cell_type": "markdown",
   "id": "0",
   "metadata": {},
   "source": [
    "# Tutorial for Pipefunc Package\n",
    "\n",
    "The `pipefunc` package is a Python library that allows you to define functions as pipelines, with each function providing a single step in the pipeline. In this tutorial, we will explain how to use the package, based on an example notebook."
   ]
  },
  {
   "cell_type": "markdown",
   "id": "1",
   "metadata": {},
   "source": [
    "For the latest documentation, check out [the official documentation](https://pipefunc.readthedocs.io/en/latest/#what-is-this).\n",
    "\n",
    "---\n",
    "\n",
    "## Building a Simple Pipeline\n",
    "\n",
    "Let's start by importing `pipefunc` and `Pipeline` from the `pipefunc` module."
   ]
  },
  {
   "cell_type": "code",
   "execution_count": null,
   "id": "2",
   "metadata": {},
   "outputs": [],
   "source": [
    "from pipefunc import pipefunc, Pipeline"
   ]
  },
  {
   "cell_type": "markdown",
   "id": "3",
   "metadata": {},
   "source": [
    "We then define some functions using the `@pipefunc` decorator. The `@pipefunc` decorator turns these functions into pipeline steps. For each function, we specify an `output_name` which will be used to refer to the output of that function in the pipeline."
   ]
  },
  {
   "cell_type": "code",
   "execution_count": null,
   "id": "4",
   "metadata": {},
   "outputs": [],
   "source": [
    "@pipefunc(output_name=\"c\")\n",
    "def f_c(a, b):\n",
    "    return a + b\n",
    "\n",
    "\n",
    "@pipefunc(output_name=\"d\")\n",
    "def f_d(b, c, x=1):  # \"c\" is the output of f_c\n",
    "    return b * c\n",
    "\n",
    "\n",
    "@pipefunc(output_name=\"e\")\n",
    "def f_e(c, d, x=1):  # \"d\" is the output of f_d\n",
    "    return c * d * x"
   ]
  },
  {
   "cell_type": "markdown",
   "id": "5",
   "metadata": {},
   "source": [
    "We now have three functions `f_c`, `f_d`, and `f_e`, which we can use to build a pipeline. Let's create a `Pipeline` object, passing our functions in the order we want them to execute. We can also enable debugging, profiling, and caching for the entire pipeline:"
   ]
  },
  {
   "cell_type": "code",
   "execution_count": null,
   "id": "6",
   "metadata": {},
   "outputs": [],
   "source": [
    "pipeline = Pipeline(\n",
    "    [f_c, f_d, f_e],\n",
    "    debug=True,  # optionally print debug information\n",
    "    profile=True,  # optionally profile the pipeline\n",
    "    cache_type=\"lru\",  # optionally cache the pipeline\n",
    ")"
   ]
  },
  {
   "cell_type": "markdown",
   "id": "7",
   "metadata": {},
   "source": [
    "Now, we have a pipeline that adds two numbers (function `f_c`), multiplies two numbers (function `f_d`), and again multiplies two numbers (function `f_e`).\n",
    "\n",
    "---\n",
    "\n",
    "## Visualizing the Pipeline\n",
    "\n",
    "You can visualize your pipeline using the `visualize()` method, and print the nodes in the graph using the `graph.nodes` attribute."
   ]
  },
  {
   "cell_type": "code",
   "execution_count": null,
   "id": "8",
   "metadata": {},
   "outputs": [],
   "source": [
    "pipeline.visualize()\n",
    "print(\"Graph nodes:\", pipeline.graph.nodes)"
   ]
  },
  {
   "cell_type": "code",
   "execution_count": null,
   "id": "9",
   "metadata": {},
   "outputs": [],
   "source": [
    "pipeline.visualize_holoviews()\n",
    "print(\"Graph nodes:\", pipeline.graph.nodes)"
   ]
  },
  {
   "cell_type": "markdown",
   "id": "10",
   "metadata": {},
   "source": [
    "---\n",
    "\n",
    "## Using the Pipeline\n",
    "\n",
    "There are several ways in which you can use the pipeline.\n",
    "\n",
    "### 1. Directly calling the `pipeline` object\n",
    "\n",
    "If the pipeline has a unique leaf node (single final output), then we can directly call the pipeline object with the input arguments."
   ]
  },
  {
   "cell_type": "code",
   "execution_count": null,
   "id": "11",
   "metadata": {},
   "outputs": [],
   "source": [
    "pipeline(a=1, b=2)"
   ]
  },
  {
   "cell_type": "code",
   "execution_count": null,
   "id": "12",
   "metadata": {},
   "outputs": [],
   "source": [
    "# The above returns the output for:\n",
    "pipeline.unique_leaf_node"
   ]
  },
  {
   "cell_type": "markdown",
   "id": "13",
   "metadata": {},
   "source": [
    "We can also specify the desired output as the first argument of the pipeline function:"
   ]
  },
  {
   "cell_type": "code",
   "execution_count": null,
   "id": "14",
   "metadata": {},
   "outputs": [],
   "source": [
    "print(\"`e` is:\", pipeline(\"e\", a=1, b=2))\n",
    "print(\"`d` is:\", pipeline(\"d\", a=1, b=2))"
   ]
  },
  {
   "cell_type": "markdown",
   "id": "15",
   "metadata": {},
   "source": [
    "### 3. Using `pipeline.run`\n",
    "\n",
    "Similar to calling the `pipeline` object, we can use the `run` method to execute the pipeline.\n",
    "\n",
    "> Note: The `Pipeline.__call__` method is just a wrapper around the `run` method."
   ]
  },
  {
   "cell_type": "code",
   "execution_count": null,
   "id": "16",
   "metadata": {},
   "outputs": [],
   "source": [
    "print(pipeline.run(output_name=\"e\", kwargs={\"a\": 1, \"b\": 2}))"
   ]
  },
  {
   "cell_type": "markdown",
   "id": "17",
   "metadata": {},
   "source": [
    "or get *_all_* function outputs and inputs by specifying `full_output=True`:"
   ]
  },
  {
   "cell_type": "code",
   "execution_count": null,
   "id": "18",
   "metadata": {},
   "outputs": [],
   "source": [
    "print(pipeline.run(output_name=\"e\", kwargs={\"a\": 1, \"b\": 2}, full_output=True))"
   ]
  },
  {
   "cell_type": "markdown",
   "id": "19",
   "metadata": {},
   "source": [
    "### 3. Get a function handle for a specific output (`pipeline.func`)\n",
    "\n",
    "We can get a handle for each function using the `func` method on the pipeline, passing the output name of the function we want."
   ]
  },
  {
   "cell_type": "code",
   "execution_count": null,
   "id": "20",
   "metadata": {},
   "outputs": [],
   "source": [
    "pf_d = pipeline.func(\"d\")\n",
    "pf_e = pipeline.func(\"e\")"
   ]
  },
  {
   "cell_type": "markdown",
   "id": "21",
   "metadata": {},
   "source": [
    "We can now use these handles as if they were the original functions. The pipeline will automatically ensure that the functions are called in the correct order, passing the output of one function as the input to the next."
   ]
  },
  {
   "cell_type": "code",
   "execution_count": null,
   "id": "22",
   "metadata": {},
   "outputs": [],
   "source": [
    "c = f_c(a=2, b=3)\n",
    "assert c == 5\n",
    "assert (\n",
    "    f_d(b=3, c=5)\n",
    "    == pf_d(a=2, b=3)  # We can call pf_d with different arguments\n",
    "    == pf_d(b=3, c=5)\n",
    "    == 15\n",
    ")\n",
    "assert pf_e(c=c, d=15, x=1) == pf_e(a=2, b=3, x=1) == pf_e(a=2, b=3, d=15, x=1) == 75"
   ]
  },
  {
   "cell_type": "markdown",
   "id": "23",
   "metadata": {},
   "source": [
    "The functions returned by `pipeline.func` have several additional methods\n",
    "\n",
    "#### Using the call_full_output Method\n",
    "\n",
    "The `call_full_output()` method can be used to call the function and get all the outputs from the pipeline as a dictionary."
   ]
  },
  {
   "cell_type": "code",
   "execution_count": null,
   "id": "24",
   "metadata": {},
   "outputs": [],
   "source": [
    "pf_e = pipeline.func(\"e\")\n",
    "pf_e.call_full_output(a=2, b=3, x=1)"
   ]
  },
  {
   "cell_type": "markdown",
   "id": "25",
   "metadata": {},
   "source": [
    "#### Direct Calling with Root Arguments (as positional arguments)\n",
    "\n",
    "You can directly call the functions in the pipeline with the root arguments using the `call_with_root_args()` method. It automatically executes all the dependencies of the function in the pipeline with the given root arguments."
   ]
  },
  {
   "cell_type": "code",
   "execution_count": null,
   "id": "26",
   "metadata": {},
   "outputs": [],
   "source": [
    "pf_e = pipeline.func(\"e\")\n",
    "pf_e.call_with_root_args(1, 2, 1)  # note these are now positional args"
   ]
  },
  {
   "cell_type": "markdown",
   "id": "27",
   "metadata": {},
   "source": [
    "This executes the function `f_e` with the root arguments `a=1, b=2, x=1`.\n",
    "\n",
    "For more information about this method, you can use the Python built-in `help` function or the `?` command."
   ]
  },
  {
   "cell_type": "code",
   "execution_count": null,
   "id": "28",
   "metadata": {},
   "outputs": [],
   "source": [
    "help(pf_e.call_with_root_args)"
   ]
  },
  {
   "cell_type": "markdown",
   "id": "29",
   "metadata": {},
   "source": [
    "This shows the signature and the doc-string of the `call_with_root_args` method."
   ]
  },
  {
   "cell_type": "markdown",
   "id": "30",
   "metadata": {},
   "source": [
    "---\n",
    "\n",
    "## Function Argument Combinations\n",
    "\n",
    "As seen above, we can call the functions in the pipeline by either providing the root inputs or by providing the output of the previous function ourselves.\n",
    "\n",
    "To see all the possible combinations of arguments that can be passed to each function, you can use the `all_arg_combinations` property. This will return a dictionary, with function output names as keys and sets of argument tuples as values."
   ]
  },
  {
   "cell_type": "code",
   "execution_count": null,
   "id": "31",
   "metadata": {},
   "outputs": [],
   "source": [
    "all_args = pipeline.all_arg_combinations\n",
    "assert all_args == {\n",
    "    # means we can call `pipeline(\"c\", a=1, b=2)`\n",
    "    \"c\": {(\"a\", \"b\")},\n",
    "\n",
    "    # means we can call `pipeline(\"d\", a=1, b=2, x=3)` or `pipeline(\"d\", b=2, c=3, x=4)`\n",
    "    \"d\": {(\"a\", \"b\", \"x\"), (\"b\", \"c\", \"x\")},\n",
    "\n",
    "    # means we can call `pipeline(\"e\", a=1, b=2, x=3)` or `pipeline(\"e\", b=2, d=3, x=4)`, etc.\n",
    "    \"e\": {(\"a\", \"b\", \"x\"), (\"a\", \"b\", \"d\", \"x\"), (\"b\", \"c\", \"x\"), (\"c\", \"d\", \"x\")},\n",
    "}\n",
    "# We can get root arguments for a specific function\n",
    "assert pipeline.root_args(\"e\") == (\"a\", \"b\", \"x\")"
   ]
  },
  {
   "cell_type": "markdown",
   "id": "32",
   "metadata": {},
   "source": [
    "\n",
    "---\n",
    "\n",
    "## Handling Multiple Outputs\n",
    "\n",
    "Functions can return multiple results at once. The `output_name` argument allows you to specify multiple outputs by providing a tuple of strings. By default, this assumes the output is a tuple. However, if the output is a single element selected from a tuple, you can use the `output_picker` argument to specify that."
   ]
  },
  {
   "cell_type": "code",
   "execution_count": null,
   "id": "33",
   "metadata": {},
   "outputs": [],
   "source": [
    "from pipefunc import pipefunc, Pipeline\n",
    "\n",
    "\n",
    "# Define a function add_ab with multiple outputs, 'c' and 'const'.\n",
    "@pipefunc(output_name=(\"c\", \"const\"))\n",
    "def add_ab(a, b):\n",
    "    return (a + b, 1)\n",
    "\n",
    "\n",
    "# Define a function mul_bc with multiple outputs, 'd' and 'e',\n",
    "# where output_picker is used to select the output.\n",
    "@pipefunc(\n",
    "    output_name=(\"d\", \"e\"),\n",
    "    output_picker=dict.__getitem__,\n",
    ")\n",
    "def mul_bc(b, c, x=1):\n",
    "    return {\"d\": b * c, \"e\": x}\n",
    "\n",
    "\n",
    "# Define a function calc_cde with multiple outputs, 'g' and 'h',\n",
    "# where output_picker is used to select the output.\n",
    "@pipefunc(\n",
    "    output_name=(\"g\", \"h\"),\n",
    "    output_picker=getattr,\n",
    ")\n",
    "def calc_cde(c, d, e, x):\n",
    "    from types import SimpleNamespace\n",
    "\n",
    "    return SimpleNamespace(g=c * d * x, h=c + e)\n",
    "\n",
    "\n",
    "# Define a function add_gh with a single output 'i'.\n",
    "@pipefunc(output_name=\"i\")\n",
    "def add_gh(h, g):\n",
    "    return h + g\n",
    "\n",
    "\n",
    "# Create a pipeline with the defined functions and visualize it.\n",
    "pipeline_multiple = Pipeline([add_ab, mul_bc, calc_cde, add_gh])\n",
    "pipeline_multiple.visualize()\n",
    "final_func = pipeline_multiple.func(\"i\")\n",
    "final_func(a=1, b=2, x=3)"
   ]
  },
  {
   "cell_type": "markdown",
   "id": "34",
   "metadata": {},
   "source": [
    "**(Sneak peak of the next section: simplifying the pipeline)**\n",
    "\n",
    "The pipeline can be simplified by combining `calc_cde` and `add_gh` into a single pipeline."
   ]
  },
  {
   "cell_type": "code",
   "execution_count": null,
   "id": "35",
   "metadata": {},
   "outputs": [],
   "source": [
    "simplified_pipeline_multiple = pipeline_multiple.simplified_pipeline(\"i\")\n",
    "simplified_pipeline_multiple.visualize()"
   ]
  },
  {
   "cell_type": "markdown",
   "id": "36",
   "metadata": {},
   "source": [
    "Note that, in the simplified pipeline, the full output of `calc_cde` (i.e., `g, h`) is not available. "
   ]
  },
  {
   "cell_type": "code",
   "execution_count": null,
   "id": "37",
   "metadata": {},
   "outputs": [],
   "source": [
    "# If the full output of calc_cde (g, h) is needed, we can't use the simplified pipeline.\n",
    "out_full = pipeline_multiple.func(\"i\").call_full_output(a=1, b=2, x=3)\n",
    "out_full_red = simplified_pipeline_multiple.func(\"i\").call_full_output(a=1, b=2, x=3)\n",
    "print(f\"Full output of f_e:\\n{out_full}\")\n",
    "print(f\"Full output of f_e after simplification:\\n{out_full_red}\")"
   ]
  },
  {
   "cell_type": "markdown",
   "id": "38",
   "metadata": {},
   "source": [
    "---\n",
    "\n",
    "## Using the `renames` Feature\n",
    "\n",
    "The `renames` attribute in `pipefunc` allows you to rename the inputs and outputs of a function before passing them to the next step in the pipeline. This can be particularly useful when the same function is used multiple times in a pipeline, or when you want to provide more meaningful names to the outputs.\n",
    "\n",
    "### Example: Renaming Outputs\n",
    "\n",
    "In this example, we demonstrate how to use the `renames` attribute to rename the inputs of a function before they are passed to the next step in the pipeline.\n",
    "\n",
    "> ⚠️ Instead of using the `@pipefunc` decorator (which creates `pipefunc.PipeFunc` object), we will create `PipeFunc` objects directly and specify the `renames` attribute."
   ]
  },
  {
   "cell_type": "code",
   "execution_count": null,
   "id": "39",
   "metadata": {},
   "outputs": [],
   "source": [
    "from pipefunc import Pipeline, PipeFunc\n",
    "\n",
    "\n",
    "def prod(a, b):\n",
    "    return a * b\n",
    "\n",
    "\n",
    "def subtract(a, b):\n",
    "    return a - b\n",
    "\n",
    "\n",
    "# We're going to use these functions multiple times in the pipeline\n",
    "pipeline_renames = Pipeline(\n",
    "    [\n",
    "        PipeFunc(prod, output_name=\"prod1\"),\n",
    "        PipeFunc(prod, output_name=\"prod2\", renames={\"a\": \"x\", \"b\": \"y\"}),\n",
    "        PipeFunc(subtract, output_name=\"delta1\", renames={\"a\": \"prod1\", \"b\": \"prod2\"}),\n",
    "        PipeFunc(subtract, output_name=\"delta2\", renames={\"a\": \"prod2\", \"b\": \"prod1\"}),\n",
    "        PipeFunc(prod, output_name=\"result\", renames={\"a\": \"delta1\", \"b\": \"delta2\"}),\n",
    "    ]\n",
    ")\n",
    "\n",
    "inputs = {\"a\": 1, \"b\": 2, \"x\": 3, \"y\": 4}\n",
    "results = pipeline_renames(\"result\", **inputs)\n",
    "\n",
    "# Output the results\n",
    "print(\"Results:\", results)"
   ]
  },
  {
   "cell_type": "markdown",
   "id": "40",
   "metadata": {},
   "source": [
    "#### Explanation\n",
    "\n",
    "1. **Function Definitions**:\n",
    "   - `prod(a, b)`: Multiples two numbers and returns the result.\n",
    "   - `subtract(a, b)`: Subtracts `b` from `a` and returns the result.\n",
    "\n",
    "2. **Pipeline Construction**:\n",
    "   - **Step 1**: `PipeFunc(prod, output_name=\"prod1\")`\n",
    "     - Multiples inputs `a` and `b` and stores the result as `prod1`.\n",
    "   - **Step 2**: `PipeFunc(prod, output_name=\"prod2\", renames={\"a\": \"x\", \"b\": 'y'})`\n",
    "     - Multiples inputs `x` and `y` and stores the result as `prod2`.\n",
    "   - **Step 3**: `PipeFunc(subtract, output_name=\"delta1\", renames={\"a\": \"prod1\", \"b\": \"prod2\"})`\n",
    "     - Subtracts `prod2` from `prod1` and stores the result as `delta1`.\n",
    "   - **Step 4**: `PipeFunc(subtract, output_name=\"delta2\", renames={\"a\": \"prod2\", \"b\": \"prod1\"})`\n",
    "     - Subtracts `prod1` from `prod2` and stores the result as `delta2`.\n",
    "   - **Step 5**: `PipeFunc(prod, output_name=\"result\", renames={\"a\": \"delta1\", \"b\": \"delta2\"})`\n",
    "     - Multiples `delta1` and `delta2` and stores the result as `result`.\n",
    "\n",
    "3. **Inputs and Execution**:\n",
    "   - The inputs `{\"a\": 1, \"b\": 2, \"x\": 3, \"y\": 4}` are provided to the pipeline.\n",
    "   - The pipeline executes in the defined order, renaming inputs and outputs as specified.\n",
    "   - The final result is computed and returned as `result`.\n",
    "\n",
    "4. **Output**:\n",
    "   - The final output of the pipeline is printed, showing the computed `result`.\n",
    "\n",
    "By using the `renames` attribute, this example demonstrates how to manage and distinguish between different uses of the same function within a pipeline, ensuring the correct values are processed at each step.\n",
    "\n",
    "---\n",
    "\n",
    "## Simplifying Pipelines\n",
    "Consider the following pipeline (look at the `visualize()` output to see the structure of the pipeline):"
   ]
  },
  {
   "cell_type": "code",
   "execution_count": null,
   "id": "41",
   "metadata": {},
   "outputs": [],
   "source": [
    "from pipefunc import Pipeline\n",
    "\n",
    "\n",
    "def f1(a, b, c, d):\n",
    "    return a + b + c + d\n",
    "\n",
    "\n",
    "def f2(a, b, e):\n",
    "    return a + b + e\n",
    "\n",
    "\n",
    "def f3(a, b, f1):\n",
    "    return a + b + f1\n",
    "\n",
    "\n",
    "def f4(f1, f3):\n",
    "    return f1 + f3\n",
    "\n",
    "\n",
    "def f5(f1, f4):\n",
    "    return f1 + f4\n",
    "\n",
    "\n",
    "def f6(b, f5):\n",
    "    return b + f5\n",
    "\n",
    "\n",
    "def f7(a, f2, f6):\n",
    "    return a + f2 + f6\n",
    "\n",
    "\n",
    "# If the functions are not decorated with @pipefunc,\n",
    "# they will be wrapped and the output_name will be the function name\n",
    "pipeline_complex = Pipeline([f1, f2, f3, f4, f5, f6, f7])\n",
    "pipeline_complex(\"f7\", a=1, b=2, c=3, d=4, e=5)\n",
    "pipeline_complex.visualize(color_combinable=True)  # combinable functions have the same color"
   ]
  },
  {
   "cell_type": "markdown",
   "id": "42",
   "metadata": {},
   "source": [
    "In the example code above, the complex pipeline composed of multiple functions (`f1`, `f2`, `f3`, `f4`, `f5`, `f6`, `f7`) can be simplified by merging the nodes `f1`, `f3`, `f4`, `f5`, `f6` into a single node.\n",
    "This merging process simplifies the pipeline and allows to reduce the number of functions that need to be cached/saved.\n",
    "\n",
    "The method `reduced_pipeline` from the `Pipeline` class is used to generate this simplified version of the pipeline."
   ]
  },
  {
   "cell_type": "code",
   "execution_count": null,
   "id": "43",
   "metadata": {},
   "outputs": [],
   "source": [
    "simplified_pipeline_complex = pipeline_complex.simplified_pipeline(\"f7\")\n",
    "simplified_pipeline_complex.visualize()"
   ]
  },
  {
   "cell_type": "markdown",
   "id": "44",
   "metadata": {},
   "source": [
    "However, simplifying a pipeline comes with a trade-off. The simplification process removes intermediate nodes that may be necessary for debugging or inspection.\n",
    "\n",
    "For instance, if a developer wants to monitor the output of `f3` while processing the pipeline, they would not be able to do so in the simplified pipeline as `f3` has been merged into a single node. Hence, while a simplified pipeline can speed up the computation, it may limit the ability to examine intermediate computations."
   ]
  },
  {
   "cell_type": "markdown",
   "id": "45",
   "metadata": {},
   "source": [
    "### Another graph simplification example"
   ]
  },
  {
   "cell_type": "code",
   "execution_count": null,
   "id": "46",
   "metadata": {},
   "outputs": [],
   "source": [
    "from pipefunc import pipefunc, Pipeline\n",
    "\n",
    "\n",
    "@pipefunc(output_name=(\"d\", \"e\"))\n",
    "def calc_de(b, g, x=1):\n",
    "    pass\n",
    "\n",
    "\n",
    "@pipefunc(output_name=(\"g\", \"h\"))\n",
    "def calc_gh(a, x=1):\n",
    "    pass\n",
    "\n",
    "\n",
    "@pipefunc(output_name=\"gg\")\n",
    "def calc_gg(g):\n",
    "    pass\n",
    "\n",
    "\n",
    "@pipefunc(output_name=\"i\")\n",
    "def calc_i(gg, b, e):\n",
    "    pass\n",
    "\n",
    "\n",
    "# Create a pipeline with the defined functions and visualize it\n",
    "pipe3 = Pipeline([calc_de, calc_gh, calc_i, calc_gg])\n",
    "pipe3.visualize(color_combinable=True)\n",
    "pipe3.simplified_pipeline(\"i\").visualize()"
   ]
  },
  {
   "cell_type": "markdown",
   "id": "47",
   "metadata": {},
   "source": [
    "---\n",
    "\n",
    "## Working with Resources Report\n",
    "\n",
    "The `resources_report()` method of the `pipeline` provides useful information on the performance of the functions in the pipeline such as CPU usage, memory usage, average time, and the number of times each function was called. This feature is only available if `profile=True` when creating the pipeline."
   ]
  },
  {
   "cell_type": "code",
   "execution_count": null,
   "id": "48",
   "metadata": {},
   "outputs": [],
   "source": [
    "# This will print the number of times each function was called\n",
    "# CPU, memory, and time usage is also reported\n",
    "pipeline.resources_report()"
   ]
  },
  {
   "cell_type": "markdown",
   "id": "49",
   "metadata": {},
   "source": [
    "This report can be beneficial in performance tuning and identifying bottlenecks in your pipeline. You can identify which functions are consuming the most resources and adjust your pipeline accordingly.\n",
    "\n",
    "You can also look all the stats directly with:"
   ]
  },
  {
   "cell_type": "code",
   "execution_count": null,
   "id": "50",
   "metadata": {},
   "outputs": [],
   "source": [
    "pipeline.profiling_stats"
   ]
  },
  {
   "cell_type": "markdown",
   "id": "51",
   "metadata": {},
   "source": [
    "---\n",
    "\n",
    "## Parallel Execution and Caching\n",
    "\n",
    "To enable parallel execution, you can use Python's built-in `concurrent.futures.ProcessPoolExecutor`. To enable caching, simply set the `cache` attribute to `True` for each function. This can be useful to avoid recomputing results when calling the same function with the same arguments multiple times."
   ]
  },
  {
   "cell_type": "code",
   "execution_count": null,
   "id": "52",
   "metadata": {},
   "outputs": [],
   "source": [
    "from concurrent.futures import ProcessPoolExecutor\n",
    "\n",
    "for f in pipeline.functions:\n",
    "    # Enable caching for all functions\n",
    "    # See next section to only cache based on a certain parameter sweep\n",
    "    f.cache = True\n",
    "\n",
    "pf_e = pipeline.func(\"e\")\n",
    "with ProcessPoolExecutor(max_workers=1) as executor:\n",
    "    results = executor.map(pf_e.call_with_dict, [{\"a\": 2, \"b\": 3, \"x\": 1}] * 10)\n",
    "    print(list(results))"
   ]
  },
  {
   "cell_type": "markdown",
   "id": "53",
   "metadata": {},
   "source": [
    "The cache is populated *__even when using parallel execution__*. To see the cache, you can use the `cache` attribute on the pipeline.\n",
    "\n",
    "The keys of the cache are always in terms of the root arguments."
   ]
  },
  {
   "cell_type": "code",
   "execution_count": null,
   "id": "54",
   "metadata": {},
   "outputs": [],
   "source": [
    "print(f\"Cache object: {pipeline.cache}\")\n",
    "pipeline.cache.cache"
   ]
  },
  {
   "cell_type": "markdown",
   "id": "55",
   "metadata": {},
   "source": [
    "---\n",
    "\n",
    "## Parameter Sweeps\n",
    "\n",
    "Parameter sweeps are a technique used in computational simulations to explore the parameter space of a model or system. \n",
    "\n",
    "In the provided example, the `generate_sweep` method is used to generate a set of combinations of input parameters `a`, `b`, `c`, `d`, and `e` for the function `f7`. \n",
    "The `generate_sweep` method takes a dictionary of parameters as input and returns a list of dictionaries, where each dictionary represents a combination of parameters."
   ]
  },
  {
   "cell_type": "code",
   "execution_count": null,
   "id": "56",
   "metadata": {},
   "outputs": [],
   "source": [
    "from pipefunc import Sweep\n",
    "\n",
    "combos = {\n",
    "    \"a\": [0, 1, 2],\n",
    "    \"b\": [0, 1, 2],\n",
    "    \"c\": [0, 1, 2],\n",
    "    \"d\": [0, 1, 2],\n",
    "    \"e\": [0, 1, 2],\n",
    "}\n",
    "# This means a Cartesian product of all the values in the lists\n",
    "# while zipping (\"a\", \"b\").\n",
    "sweep = Sweep(combos, dims=[(\"a\", \"b\"), \"c\", \"d\", \"e\"])\n",
    "sweep.list()[:10]  # show the first 10 combinations"
   ]
  },
  {
   "cell_type": "markdown",
   "id": "57",
   "metadata": {},
   "source": [
    "The function `set_cache_for_sweep` then enables caching for nodes in the pipeline that are expected to be executed two or more times during the parameter sweep. Caching improves the efficiency of the sweep by storing and reusing results of repeated computations, rather than performing the same computation multiple times."
   ]
  },
  {
   "cell_type": "code",
   "execution_count": null,
   "id": "58",
   "metadata": {},
   "outputs": [],
   "source": [
    "from pipefunc import set_cache_for_sweep\n",
    "\n",
    "set_cache_for_sweep(\n",
    "    \"f7\", simplified_pipeline_complex, sweep, min_executions=2, verbose=True\n",
    ")"
   ]
  },
  {
   "cell_type": "markdown",
   "id": "59",
   "metadata": {},
   "source": [
    "Large parameter sweeps can be computationally expensive. Reducing the pipeline and utilizing caching, as demonstrated in the example, can help alleviate this cost.\n",
    "---\n",
    "\n",
    "## Calculating Optimal Execution Order\n",
    "\n",
    "In complex pipelines, especially those involving parameter sweeps, some function nodes may be executed multiple times. \n",
    "Precalculating and caching the results of such functions can significantly speed up the pipeline execution.\n",
    "The `pipefunc` package provides the `get_precalculation_order()` function to determine the optimal execution order of functions in a pipeline, prioritizing those functions which are executed more often.\n",
    "\n",
    "Let's consider a test scenario with a pipeline composed of four functions and a sweep of parameters `x`, `y`, and `z`."
   ]
  },
  {
   "cell_type": "code",
   "execution_count": null,
   "id": "60",
   "metadata": {},
   "outputs": [],
   "source": [
    "from pipefunc import pipefunc, Pipeline, Sweep, count_sweep, get_precalculation_order\n",
    "\n",
    "\n",
    "@pipefunc(output_name=(\"a\", \"b\"))\n",
    "def f_ab(y, z=1):\n",
    "    print(f\"🏃 Running f_ab(y={y}, z={z})\")\n",
    "    return y + z, y * z\n",
    "\n",
    "\n",
    "@pipefunc(output_name=(\"c\", \"d\"))\n",
    "def f_cd(x, a, z=1):\n",
    "    return x + a + z, x * a * z\n",
    "\n",
    "\n",
    "@pipefunc(output_name=\"aa\")\n",
    "def f_aa(a):\n",
    "    print(f\"🏃 Running f_aa(a={a})\")\n",
    "    return a + 1\n",
    "\n",
    "\n",
    "@pipefunc(output_name=\"i\")\n",
    "def f_i(aa, x, d):\n",
    "    return aa + x + d\n",
    "\n",
    "\n",
    "pipeline_order = Pipeline([f_cd, f_ab, f_i, f_aa])\n",
    "pipeline_order.visualize()"
   ]
  },
  {
   "cell_type": "code",
   "execution_count": null,
   "id": "61",
   "metadata": {},
   "outputs": [],
   "source": [
    "sweep = Sweep({\"y\": [1, 2], \"x\": [3, 4], \"z\": [5, 6]})\n",
    "cnt = count_sweep(\"i\", sweep, pipeline_order)\n",
    "print(\"Number of executions (keys are based on root_args):\")\n",
    "cnt"
   ]
  },
  {
   "cell_type": "markdown",
   "id": "62",
   "metadata": {},
   "source": [
    "To determine the optimal order of execution for functions in the pipeline, we call the `get_precalculation_order()` function, passing in our pipeline and the counts of function executions:"
   ]
  },
  {
   "cell_type": "code",
   "execution_count": null,
   "id": "63",
   "metadata": {},
   "outputs": [],
   "source": [
    "precalculation_order = get_precalculation_order(pipeline_order, cnt)\n",
    "precalculation_order"
   ]
  },
  {
   "cell_type": "markdown",
   "id": "64",
   "metadata": {},
   "source": [
    "In the `get_precalculation_order()` function, the order is determined by the topological dependencies of the functions and the count of their executions in the context of a parameter sweep. Only functions that are executed multiple times are included in the precalculation order. This ensures that the computation is most efficient where it matters the most.\n",
    "\n",
    "In this test scenario, the order of precalculation is `[f_e, f_gg]`, meaning `f_e` and `f_gg` should be precalculated and cached before executing the rest of the pipeline."
   ]
  },
  {
   "cell_type": "code",
   "execution_count": null,
   "id": "65",
   "metadata": {},
   "outputs": [],
   "source": [
    "print(f\"Length of the sweep is {len(sweep)}\")\n",
    "for f in precalculation_order:\n",
    "    f.cache = True  # enable caching\n",
    "    func = pipeline_order.func(f.output_name)\n",
    "    input_args = pipeline_order.root_args(f.output_name)\n",
    "    sub_sweep = sweep.filtered_sweep(input_args)\n",
    "    print(f\"- Function `{f}` has {len(sub_sweep)} combinations\")\n",
    "    for combo in sub_sweep.generate():  # sweep as generator\n",
    "        _ = func.call_with_dict(combo)  # We just populate the cache"
   ]
  },
  {
   "cell_type": "markdown",
   "id": "66",
   "metadata": {},
   "source": [
    "Now we populated the cache, however, one might also run these calculations on a cluster and save the results to disk.\n",
    "\n",
    "Note that when we are executing the pipeline to get `'i'`, we are not executing `f_ab` and `f_aa` again, but rather loading the results from the cache."
   ]
  },
  {
   "cell_type": "code",
   "execution_count": null,
   "id": "67",
   "metadata": {},
   "outputs": [],
   "source": [
    "# Note no print statements are shown from `f_ab` and `f_aa`\n",
    "import pandas as pd\n",
    "\n",
    "F = pipeline_order.func(\"i\")\n",
    "results = [F.call_full_output(**combo) for combo in sweep.generate()]\n",
    "df = pd.DataFrame(results)\n",
    "df"
   ]
  },
  {
   "cell_type": "markdown",
   "id": "68",
   "metadata": {},
   "source": [
    "---\n",
    "\n",
    "## Running \"Fan-out\" / Map-Reduce Pipelines using `MapSpec`\n",
    "\n",
    "This section shows how `pipefunc` uses `mapspec` to automate data distribution across operations for \"Fan-out\" and Map-Reduce tasks.\n",
    "\n",
    "> **Note:** ⚠️ The mapping computation of the pipeline is done in parallel using the `concurrent.futures.ProcessPoolExecutor` whenever `pipeline.map(..., parallel=True)` (default).\n",
    "\n",
    "### Example: Simple reduction pipeline\n",
    "\n",
    "The script below demonstrates a two-step pipeline: doubling each integer in an input list, followed by summing all the doubled values."
   ]
  },
  {
   "cell_type": "code",
   "execution_count": null,
   "id": "69",
   "metadata": {},
   "outputs": [],
   "source": [
    "from pipefunc.map import run, load_outputs\n",
    "import numpy as np\n",
    "from typing import Any\n",
    "\n",
    "\n",
    "@pipefunc(output_name=\"y\", mapspec=\"x[i] -> y[i]\")\n",
    "def double_it(x: int) -> int:\n",
    "    assert isinstance(x, int)\n",
    "    return 2 * x\n",
    "\n",
    "\n",
    "@pipefunc(output_name=\"sum\")\n",
    "def take_sum(y: np.ndarray[Any, np.dtype[np.int_]]) -> int:\n",
    "    assert isinstance(y, np.ndarray)\n",
    "    return sum(y)\n",
    "\n",
    "\n",
    "pipeline = Pipeline([double_it, take_sum])\n",
    "\n",
    "inputs = {\"x\": [0, 1, 2, 3]}\n",
    "run_folder = \"my_run_folder\"\n",
    "results = run(pipeline, inputs, run_folder=run_folder)  # or use `pipeline.map`\n",
    "assert results[-1].output == 12\n",
    "assert results[-1].output_name == \"sum\"\n",
    "\n",
    "# Or load the outputs from a previous run\n",
    "assert load_outputs(\"sum\", run_folder=run_folder) == 12"
   ]
  },
  {
   "cell_type": "markdown",
   "id": "70",
   "metadata": {},
   "source": [
    "#### Explanation\n",
    "\n",
    "1. **Using `mapspec` for Data Distribution**:\n",
    "   - The `mapspec` attribute in the `@pipefunc` decorator defines how data is distributed across computations. In `double_it`, `mapspec=\"x[i] -> y[i]\"` specifies that each element `i` of the input array `x` is independently processed to produce the corresponding element `i` in the output array `y`. Because `take_sum` does not have a `mapspec`, it receives the entire array `y` for aggregation.\n",
    "\n",
    "2. **Function Definitions**:\n",
    "   - `double_it`: Doubles each integer, demonstrating a simple stateless operation that can be easily parallelized.\n",
    "   - `take_sum`: Aggregates all elements of the resulting array into a single sum, serving as the reduce step in this Map-Reduce example.\n",
    "\n",
    "3. **Pipeline Execution**:\n",
    "   - The `Pipeline.map` method executes the pipeline with specific inputs and a directory for temporary run files, showcasing how PipeFunc manages data flow and execution state across the pipeline. Alternatively, use the `pipefunc.map.run` function.\n",
    "\n",
    "4. **Results Verification**:\n",
    "   - Assertions check that the final sum of doubled numbers is correct, ensuring both the integrity and correctness of the pipeline's execution.\n",
    "\n",
    "5. **Output Retrieval**:\n",
    "   - The `load_outputs` function demonstrates how to retrieve and verify results post-computation, confirming the output is stored and accessible as expected.\n",
    "\n",
    "### Example: Cross-product of inputs and multidiagonal aggregation\n",
    "\n",
    "This example shows how to compute the outer product of two input vectors (`x` and `y`) and then aggregate the resulting matrix along rows, and finally reduce the computation to a single `float` by taking the `norm` of the resulting `aggregated` vector."
   ]
  },
  {
   "cell_type": "code",
   "execution_count": null,
   "id": "71",
   "metadata": {},
   "outputs": [],
   "source": [
    "from pipefunc import Pipeline, pipefunc\n",
    "import numpy as np\n",
    "\n",
    "\n",
    "@pipefunc(output_name=\"z\", mapspec=\"x[i], y[j] -> z[i, j]\")\n",
    "def multiply_elements(x: int, y: int) -> int:\n",
    "    \"\"\"Multiply two integers.\"\"\"\n",
    "    return x * y\n",
    "\n",
    "\n",
    "@pipefunc(output_name=\"aggregated\", mapspec=\"z[i, :] -> aggregated[i]\")\n",
    "def aggregate_rows(z: np.ndarray) -> np.ndarray:\n",
    "    \"\"\"Sum the elements of each row in matrix z.\"\"\"\n",
    "    return np.sum(z)\n",
    "\n",
    "\n",
    "@pipefunc(output_name=\"norm\")\n",
    "def compute_norm(aggregated: np.ndarray) -> float:\n",
    "    \"\"\"Compute the Euclidean norm of the vector aggregated.\"\"\"\n",
    "    return np.linalg.norm(aggregated)\n",
    "\n",
    "\n",
    "pipeline = Pipeline([multiply_elements, aggregate_rows, compute_norm])\n",
    "inputs = {\"x\": [1, 2, 3], \"y\": [4, 5, 6]}\n",
    "results = pipeline.map(inputs, run_folder=\"my_run_folder\")  # same as `pipeline.map.run()`\n",
    "print(\"Norm of the aggregated sums:\", results[-1].output)"
   ]
  },
  {
   "cell_type": "markdown",
   "id": "72",
   "metadata": {},
   "source": [
    "#### Explanation\n",
    "\n",
    "1. **Matrix Creation (`multiply_elements`)**:\n",
    "   - Each combination of elements from arrays `x` and `y` is multiplied to form the matrix `z`. The `mapspec` `\"x[i], y[j] -> z[i, j]\"` ensures that every pair of elements is processed to generate a 2D matrix.\n",
    "\n",
    "2. **Row Aggregation (`aggregate_rows`)**:\n",
    "   - The matrix `z` is then processed row by row to sum the values, creating an aggregated result for each row. The `mapspec` `\"z[i, :] -> aggregated[i]\"` directs the pipeline to apply the summation across each row, transforming a 2D array into a 1D array of row sums.\n",
    "\n",
    "3. **Vector Norm Calculation (`compute_norm`)**:\n",
    "   - Finally, the norm of the aggregated vector is computed, providing a single scalar value that quantifies the magnitude of the vector formed from row sums. This step does not require a `mapspec` as it takes the entire output from the previous step and produces a single output.\n",
    "\n",
    "### Example: Handling Dynamic Output Shapes\n",
    "\n",
    "It is not always possible to predict output shapes directly from the input parameters. For instance, when a function generates a list whose length depends on the runtime value of an input, PipeFunc cannot automatically determine the output dimensions. To manage such cases, developers must manually specify these output shapes.\n",
    "\n",
    "We also show an alternative way of specifying the `mapspec` when creating the `Pipeline` object by passing `tuple`s to the `Pipeline` constructor."
   ]
  },
  {
   "cell_type": "code",
   "execution_count": null,
   "id": "73",
   "metadata": {},
   "outputs": [],
   "source": [
    "from pipefunc import Pipeline, pipefunc\n",
    "\n",
    "@pipefunc(output_name=\"x\")\n",
    "def generate_ints(n: int) -> list[int]:\n",
    "    \"\"\"Generate a list of integers from 0 to n-1.\"\"\"\n",
    "    return list(range(n))\n",
    "\n",
    "@pipefunc(output_name=\"y\")\n",
    "def double_it(x: int) -> int:\n",
    "    \"\"\"Double the input integer.\"\"\"\n",
    "    return 2 * x\n",
    "\n",
    "@pipefunc(output_name=\"sum\")\n",
    "def take_sum(y: list[int]) -> int:\n",
    "    \"\"\"Sum a list of integers.\"\"\"\n",
    "    return sum(y)\n",
    "\n",
    "# One is able to specify the mapspec when creating the Pipeline object\n",
    "# by passing a tuple of the function and the mapspec string.\n",
    "pipeline = Pipeline([\n",
    "    generate_ints,\n",
    "    (double_it, \"x[i] -> y[i]\"),  # Apply doubling to each element in the list\n",
    "    take_sum,\n",
    "])\n",
    "\n",
    "\n",
    "inputs = {\"n\": 4}\n",
    "manual_shapes = {\"x\": (4,)}  # Explicitly specify the shape of 'x' output from generate_ints\n",
    "\n",
    "# Run the pipeline\n",
    "results = pipeline.map(inputs, manual_shapes=manual_shapes, run_folder=\"my_run_folder\")\n",
    "print(\"Sum of doubled integers:\", results[-1].output)"
   ]
  },
  {
   "cell_type": "markdown",
   "id": "74",
   "metadata": {},
   "source": [
    "This example demonstrates explicitly specifying output shapes via `manual_shapes` in scenarios where the output size is dynamically determined by input values.\n",
    "\n",
    "### Example: Zipped Inputs and Pairwise Computation\n",
    "\n",
    "This pipeline processes zipped inputs `x` and `y` with independent `z` to compute a function across all combinations, producing a 2D matrix `r`."
   ]
  },
  {
   "cell_type": "code",
   "execution_count": null,
   "id": "75",
   "metadata": {},
   "outputs": [],
   "source": [
    "from pipefunc import Pipeline, pipefunc\n",
    "\n",
    "\n",
    "@pipefunc(output_name=\"r\")\n",
    "def process_elements(x: int, y: int, z: int) -> float:\n",
    "    return x * y + z\n",
    "\n",
    "\n",
    "pipeline = Pipeline([(process_elements, \"x[a], y[a], z[b] -> r[a, b]\")])\n",
    "\n",
    "inputs = {\"x\": [1, 2, 3], \"y\": [4, 5, 6], \"z\": [7, 8]}\n",
    "\n",
    "results = pipeline.map(inputs, run_folder=\"my_run_folder\")\n",
    "output_matrix = results[-1].output\n",
    "print(\"Output Matrix:\\n\", output_matrix)"
   ]
  },
  {
   "cell_type": "markdown",
   "id": "76",
   "metadata": {},
   "source": [
    "#### Explanation\n",
    "\n",
    "- **Function `process_elements`**:\n",
    "   - Takes three inputs: `x`, `y`, and `z`. For each pair `(x[a], y[a])`, the function is applied with each `z[b]`.\n",
    "\n",
    "- **Pipeline Definition**:\n",
    "   - The `mapspec` `\"x[a], y[a], z[b] -> r[a, b]\"` specifies how elements from the inputs are to be combined. It states that each element from the paired inputs `x` and `y` (indexed by `a`) should be processed with each element from `z` (indexed by `b`), resulting in a 2D output array `r`.\n",
    "\n",
    "- **Outputs**:\n",
    "   - The output `r` is a 2-dimensional matrix where the dimensions are determined by the lengths of `x`/`y` and `z`. Each element of this matrix represents the computation result for a specific combination of inputs."
   ]
  }
 ],
 "metadata": {
  "kernelspec": {
   "display_name": "Python 3",
   "language": "python",
   "name": "python3"
  }
 },
 "nbformat": 4,
 "nbformat_minor": 5
}
