{
 "cells": [
  {
   "cell_type": "markdown",
   "metadata": {},
   "source": [
    "# Poor man's adaptive sweep\n",
    "\n",
    "Using Adaptive sweeps instead of regular sweeps can save a lot of time.\n",
    "Currently, there is no deep integration in `pipefunc` to do adaptive sweeps.\n",
    "However, we can still do a poor man's version of them.\n",
    "\n",
    "\n",
    "In the future the idea is to allow a syntax like this:\n",
    "\n",
    "```python\n",
    "pipeline.map(inputs={'a': Bound(0, 1), 'b': Bound(0, 1), c=[0, 1, 2]})\n",
    "```\n",
    "\n",
    "This will turn into a 2D adaptive sweep over `a` and `b` and do that for each value of `c`.\n",
    "\n",
    "For now, we can do the following \"hack\"."
   ]
  },
  {
   "cell_type": "markdown",
   "metadata": {},
   "source": [
    "## Setting the stage\n",
    "\n",
    "Let's set the stage by setting up a simple pipeline with a reduction operation."
   ]
  },
  {
   "cell_type": "code",
   "execution_count": null,
   "metadata": {},
   "outputs": [],
   "source": [
    "from pipefunc import pipefunc, Pipeline\n",
    "\n",
    "\n",
    "@pipefunc(output_name=\"y\", mapspec=\"x[i] -> y[i]\")\n",
    "def double_it(x: int, c: int) -> int:\n",
    "    return 2 * x + c\n",
    "\n",
    "\n",
    "@pipefunc(output_name=\"sum_\")\n",
    "def take_sum(y: list[int], d: int) -> float:\n",
    "    return sum(y) / d\n",
    "\n",
    "\n",
    "pipeline = Pipeline([double_it, take_sum])\n",
    "\n",
    "inputs = {\"x\": [0, 1, 2, 3], \"c\": 1, \"d\": 2}\n",
    "run_folder = \"my_run_folder\"\n",
    "results = pipeline.map(inputs, run_folder=run_folder)\n",
    "print(results[\"y\"].output.tolist())\n",
    "assert results[\"y\"].output.tolist() == [1, 3, 5, 7]\n",
    "assert results[\"sum_\"].output == 8.0"
   ]
  },
  {
   "cell_type": "markdown",
   "metadata": {},
   "source": [
    "This pipeline returns a single number, which is the sum of the inputs.\n",
    "\n",
    "However, often we want to run a pipeline for a range of inputs, on e.g., a 2D grid on `c` and `d`."
   ]
  },
  {
   "cell_type": "code",
   "execution_count": null,
   "metadata": {},
   "outputs": [],
   "source": [
    "pipeline2d = pipeline.copy()\n",
    "pipeline2d.add_mapspec_axis(\"c\", axis=\"j\")\n",
    "pipeline2d.add_mapspec_axis(\"d\", axis=\"k\")"
   ]
  },
  {
   "cell_type": "markdown",
   "metadata": {},
   "source": [
    "Now let's run this on a 2D grid of `c` and `d`:"
   ]
  },
  {
   "cell_type": "code",
   "execution_count": null,
   "metadata": {},
   "outputs": [],
   "source": [
    "import numpy as np\n",
    "\n",
    "inputs = {\"x\": [0, 1, 2, 3], \"c\": np.linspace(0, 100, 20), \"d\": np.linspace(-1, 1, 20)}\n",
    "run_folder = \"my_run_folder\"\n",
    "results = pipeline2d.map(inputs, run_folder=run_folder)"
   ]
  },
  {
   "cell_type": "markdown",
   "metadata": {},
   "source": [
    "We can load the results into an xarray dataset and plot them."
   ]
  },
  {
   "cell_type": "code",
   "execution_count": null,
   "metadata": {},
   "outputs": [],
   "source": [
    "from pipefunc.map import load_xarray_dataset\n",
    "\n",
    "ds = load_xarray_dataset(run_folder=run_folder)\n",
    "ds.sum_.astype(float).plot(x=\"c\", y=\"d\")"
   ]
  },
  {
   "cell_type": "markdown",
   "metadata": {},
   "source": [
    "## Doing it with an `adaptive.Learner2D`"
   ]
  },
  {
   "cell_type": "code",
   "execution_count": null,
   "metadata": {},
   "outputs": [],
   "source": [
    "import adaptive\n",
    "\n",
    "adaptive.notebook_extension()"
   ]
  },
  {
   "cell_type": "code",
   "execution_count": null,
   "metadata": {},
   "outputs": [],
   "source": [
    "from pathlib import Path\n",
    "from typing import Any, Callable\n",
    "\n",
    "\n",
    "def _wrapper_1d(\n",
    "    pipeline: Pipeline,\n",
    "    inputs: dict[str, Any],\n",
    "    adaptive_dimension: str,\n",
    "    adaptive_output: str,\n",
    "    run_folder_template: str,\n",
    ") -> Callable[float, float]:\n",
    "    def wrapper(_adaptive_dimension: float) -> float:\n",
    "        inputs_ = inputs.copy()\n",
    "        inputs_[adaptive_dimension] = _adaptive_dimension\n",
    "        results = pipeline.map(inputs_, run_folder=run_folder_template.format(_adaptive_dimension))\n",
    "        return results[adaptive_output].output\n",
    "\n",
    "    return wrapper\n",
    "\n",
    "\n",
    "def adaptive_wrapper(\n",
    "    inputs: dict[str, Any],\n",
    "    adaptive_dimensions: dict[str, tuple[float, float]],\n",
    "    adaptive_output: str,\n",
    "    run_folder_template: str = \"run_folder_{}\",\n",
    "):\n",
    "    if set(adaptive_dimensions) & set(inputs):\n",
    "        msg = \"Adaptive dimensions cannot be in inputs\"\n",
    "        raise ValueError(msg)\n",
    "    if any(inputs.keys() & pipeline.mapspec_names):\n",
    "        # Single adaptive learner\n",
    "        if len(adaptive_dimensions) == 1:\n",
    "            adaptive_dimension, bounds = next(iter(adaptive_dimensions.items()))\n",
    "            # Create Learner1D\n",
    "            function = _wrapper_1d(\n",
    "                pipeline,\n",
    "                inputs,\n",
    "                adaptive_dimension,\n",
    "                adaptive_output,\n",
    "                run_folder_template,\n",
    "            )\n",
    "            return adaptive.Learner1D(function, bounds)\n",
    "        if len(adaptive_dimensions) == 2:\n",
    "            # Create Learner2D\n",
    "            ...\n",
    "            return\n",
    "        if len(adaptive_dimensions) >= 3:\n",
    "            # Create LearnerND\n",
    "            ...\n",
    "            return\n",
    "    # Create multiple adaptive learners\n",
    "    return\n",
    "\n",
    "\n",
    "learner1d = adaptive_wrapper(\n",
    "    inputs={\"x\": [0, 1, 2, 3], \"d\": 1},\n",
    "    adaptive_dimensions={\"c\": (0, 100)},\n",
    "    adaptive_output=\"sum_\",\n",
    "    run_folder_template=\"run_folder_{}\",\n",
    ")\n",
    "adaptive.runner.simple(learner1d, npoints_goal=10)"
   ]
  },
  {
   "cell_type": "code",
   "execution_count": null,
   "metadata": {},
   "outputs": [],
   "source": []
  },
  {
   "cell_type": "code",
   "execution_count": null,
   "metadata": {},
   "outputs": [],
   "source": [
    "%debug"
   ]
  },
  {
   "cell_type": "code",
   "execution_count": null,
   "metadata": {},
   "outputs": [],
   "source": []
  }
 ],
 "metadata": {
  "kernelspec": {
   "display_name": "system_performance",
   "language": "python",
   "name": "python3"
  },
  "language_info": {
   "codemirror_mode": {
    "name": "ipython",
    "version": 3
   },
   "file_extension": ".py",
   "mimetype": "text/x-python",
   "name": "python",
   "nbconvert_exporter": "python",
   "pygments_lexer": "ipython3",
   "version": "3.11.9"
  }
 },
 "nbformat": 4,
 "nbformat_minor": 2
}
