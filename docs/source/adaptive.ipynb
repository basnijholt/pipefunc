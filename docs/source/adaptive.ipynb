{
 "cells": [
  {
   "cell_type": "markdown",
   "metadata": {},
   "source": [
    "# Poor man's adaptive sweep\n",
    "\n",
    "Using Adaptive sweeps instead of regular sweeps can save a lot of time.\n",
    "Currently, there is no deep integration in `pipefunc` to do adaptive sweeps.\n",
    "However, we can still do a poor man's version of them.\n",
    "\n",
    "\n",
    "In the future the idea is to allow a syntax like this:\n",
    "\n",
    "```python\n",
    "pipeline.map(inputs={'a': Bound(0, 1), 'b': Bound(0, 1), c=[0, 1, 2]})\n",
    "```\n",
    "\n",
    "This will turn into a 2D adaptive sweep over `a` and `b` and do that for each value of `c`.\n",
    "\n",
    "For now, we can do the following \"hack\"."
   ]
  },
  {
   "cell_type": "markdown",
   "metadata": {},
   "source": [
    "## Setting the stage\n",
    "\n",
    "Let's set the stage by setting up a simple pipeline with a reduction operation."
   ]
  },
  {
   "cell_type": "code",
   "execution_count": null,
   "metadata": {},
   "outputs": [],
   "source": [
    "from pipefunc import pipefunc, Pipeline\n",
    "\n",
    "\n",
    "@pipefunc(output_name=\"y\", mapspec=\"x[i] -> y[i]\")\n",
    "def double_it(x: int, c: int) -> int:\n",
    "    return 2 * x + c\n",
    "\n",
    "\n",
    "@pipefunc(output_name=\"sum_\")\n",
    "def take_sum(y: list[int], d: int) -> float:\n",
    "    return sum(y) / d\n",
    "\n",
    "\n",
    "pipeline = Pipeline([double_it, take_sum])\n",
    "\n",
    "inputs = {\"x\": [0, 1, 2, 3], \"c\": 1, \"d\": 2}\n",
    "run_folder = \"my_run_folder\"\n",
    "results = pipeline.map(inputs, run_folder=run_folder)\n",
    "print(results[\"y\"].output.tolist())\n",
    "assert results[\"y\"].output.tolist() == [1, 3, 5, 7]\n",
    "assert results[\"sum_\"].output == 8.0"
   ]
  },
  {
   "cell_type": "markdown",
   "metadata": {},
   "source": [
    "This pipeline returns a single number, which is the sum of the inputs.\n",
    "\n",
    "However, often we want to run a pipeline for a range of inputs, on e.g., a 2D grid on `c` and `d`."
   ]
  },
  {
   "cell_type": "code",
   "execution_count": null,
   "metadata": {},
   "outputs": [],
   "source": [
    "pipeline2d = pipeline.copy()\n",
    "pipeline2d.add_mapspec_axis(\"c\", axis=\"j\")\n",
    "pipeline2d.add_mapspec_axis(\"d\", axis=\"k\")"
   ]
  },
  {
   "cell_type": "markdown",
   "metadata": {},
   "source": [
    "Now let's run this on a 2D grid of `c` and `d`:"
   ]
  },
  {
   "cell_type": "code",
   "execution_count": null,
   "metadata": {},
   "outputs": [],
   "source": [
    "import numpy as np\n",
    "\n",
    "inputs = {\"x\": [0, 1, 2, 3], \"c\": np.linspace(0, 100, 20), \"d\": np.linspace(-1, 1, 20)}\n",
    "run_folder = \"my_run_folder\"\n",
    "results = pipeline2d.map(inputs, run_folder=run_folder)"
   ]
  },
  {
   "cell_type": "markdown",
   "metadata": {},
   "source": [
    "We can load the results into an xarray dataset and plot them."
   ]
  },
  {
   "cell_type": "code",
   "execution_count": null,
   "metadata": {},
   "outputs": [],
   "source": [
    "from pipefunc.map import load_xarray_dataset\n",
    "\n",
    "ds = load_xarray_dataset(run_folder=run_folder)\n",
    "ds.sum_.astype(float).plot(x=\"c\", y=\"d\")"
   ]
  },
  {
   "cell_type": "markdown",
   "metadata": {},
   "source": [
    "## Doing it with an `adaptive.Learner2D`"
   ]
  },
  {
   "cell_type": "code",
   "execution_count": null,
   "metadata": {},
   "outputs": [],
   "source": [
    "import adaptive\n",
    "\n",
    "adaptive.notebook_extension()"
   ]
  },
  {
   "cell_type": "markdown",
   "metadata": {},
   "source": [
    "We redefine the `pipeline` with the single reduction operation."
   ]
  },
  {
   "cell_type": "code",
   "execution_count": null,
   "metadata": {},
   "outputs": [],
   "source": [
    "from pipefunc import pipefunc, Pipeline\n",
    "\n",
    "\n",
    "@pipefunc(output_name=\"y\", mapspec=\"x[i] -> y[i]\")\n",
    "def double_it(x: int, c: int) -> int:\n",
    "    return 2 * x + c\n",
    "\n",
    "\n",
    "@pipefunc(output_name=\"sum_\")\n",
    "def take_sum(y: list[int], d: int) -> float:\n",
    "    return sum(y) / d\n",
    "\n",
    "\n",
    "pipeline = Pipeline([double_it, take_sum])"
   ]
  },
  {
   "cell_type": "code",
   "execution_count": null,
   "metadata": {},
   "outputs": [],
   "source": [
    "from pipefunc.map.adaptive import to_adaptive_learner\n",
    "\n",
    "run_folder_template = \"adaptive_1d/run_folder_{}\"\n",
    "learner1d = to_adaptive_learner(\n",
    "    inputs={\"x\": [0, 1, 2, 3], \"d\": 1},\n",
    "    adaptive_dimensions={\"c\": (0, 100)},\n",
    "    adaptive_output=\"sum_\",\n",
    "    run_folder_template=run_folder_template,\n",
    ")\n",
    "adaptive.runner.simple(learner1d, npoints_goal=10)"
   ]
  },
  {
   "cell_type": "markdown",
   "metadata": {},
   "source": [
    "We can now inspect the results of the `adaptive_output` in the learner"
   ]
  },
  {
   "cell_type": "code",
   "execution_count": null,
   "metadata": {},
   "outputs": [],
   "source": [
    "learner1d.to_numpy()"
   ]
  },
  {
   "cell_type": "code",
   "execution_count": null,
   "metadata": {},
   "outputs": [],
   "source": [
    "learner1d.plot()"
   ]
  },
  {
   "cell_type": "markdown",
   "metadata": {},
   "source": [
    "Or inspect all the underlying data"
   ]
  },
  {
   "cell_type": "code",
   "execution_count": null,
   "metadata": {},
   "outputs": [],
   "source": [
    "from pathlib import Path\n",
    "\n",
    "from pipefunc.map import load_xarray_dataset\n",
    "\n",
    "all_folders = Path(run_folder_template).parent.glob(\"*\")\n",
    "all_folders = sorted(all_folders)\n",
    "datasets = [load_xarray_dataset(run_folder=folder) for folder in all_folders]"
   ]
  },
  {
   "cell_type": "code",
   "execution_count": null,
   "metadata": {},
   "outputs": [],
   "source": [
    "datasets[0]"
   ]
  },
  {
   "cell_type": "code",
   "execution_count": null,
   "metadata": {},
   "outputs": [],
   "source": [
    "run_folder_template = \"adaptive_2d/run_folder_{}\"\n",
    "learner2d = to_adaptive_learner(\n",
    "    inputs={\"x\": [0, 1, 2, 3]},\n",
    "    adaptive_dimensions={\"c\": (0, 100), \"d\": (-1, 1)},\n",
    "    adaptive_output=\"sum_\",\n",
    "    run_folder_template=run_folder_template,\n",
    ")\n",
    "adaptive.runner.simple(learner2d, npoints_goal=10)"
   ]
  }
 ],
 "metadata": {
  "kernelspec": {
   "display_name": "system_performance",
   "language": "python",
   "name": "python3"
  },
  "language_info": {
   "codemirror_mode": {
    "name": "ipython",
    "version": 3
   },
   "file_extension": ".py",
   "mimetype": "text/x-python",
   "name": "python",
   "nbconvert_exporter": "python",
   "pygments_lexer": "ipython3",
   "version": "3.12.1"
  }
 },
 "nbformat": 4,
 "nbformat_minor": 2
}
